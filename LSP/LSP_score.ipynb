{
 "cells": [
  {
   "cell_type": "code",
   "execution_count": 3,
   "metadata": {},
   "outputs": [],
   "source": [
    "import pandas as pd\n",
    "import matplotlib.pyplot as plt\n",
    "import seaborn as sns\n",
    "from NLP_utils import *\n",
    "import numpy as np"
   ]
  },
  {
   "cell_type": "code",
   "execution_count": 1,
   "metadata": {},
   "outputs": [],
   "source": [
    "import pandas as pd\n",
    "\n",
    "df = pd.read_csv(\"real_final_after_merge.csv\")\n",
    "titles = df[\"title\"].unique()\n",
    "\n",
    "df_title_1 = df[df[\"title\"] == '콩쥐팥쥐전']"
   ]
  },
  {
   "cell_type": "code",
   "execution_count": 2,
   "metadata": {},
   "outputs": [
    {
     "data": {
      "text/plain": [
       "array(['광작(廣作)', '귀향(歸鄕)', '금방울전(金鈴傳)', '김원전(金圓傳)', '까치전',\n",
       "       '박씨전 (고대본)(朴氏傳)', '박씨전(朴氏傳)', '방한림전(方翰林傳)', '배비장전(裵裨將傳)', '비부(婢夫)',\n",
       "       '서동지전(鼠同知傳)', '숙영낭자전(淑英娘子傳)', '숙향전(淑香傳)', '안동랑(安東郞)',\n",
       "       '열녀춘향수절가(烈女春香守節歌)', '영영전(英英傳)', '옥단춘전(玉丹春傳)', '옹고집전(壅固執傳)', '우마마',\n",
       "       '운영전 (국립도서관본)(雲英傳)', '임진록(壬辰錄)', '장경전 (경판25장본 대영박물관소장)(張景傳)',\n",
       "       '장끼전(雄雉傳)', '장백전(張伯傳)', '장화홍련전', '정수정전 (경판16장본)(鄭秀貞傳)',\n",
       "       '최고운전(崔孤雲傳)', '콩쥐팥쥐전', '토끼전', '토생전 (경판본)(兎生傳)', '현수문전 (경판본)(玄壽文傳)',\n",
       "       '홍계월전(洪桂月傳)'], dtype=object)"
      ]
     },
     "execution_count": 2,
     "metadata": {},
     "output_type": "execute_result"
    }
   ],
   "source": [
    "titles"
   ]
  },
  {
   "cell_type": "code",
   "execution_count": 4,
   "metadata": {},
   "outputs": [
    {
     "data": {
      "text/plain": [
       "['[]',\n",
       " '[]',\n",
       " \"[{'화자': ['어머니'], '청자': [], 'num_sentence': 2}]\",\n",
       " \"[{'화자': ['어머니'], '청자': [], 'num_sentence': 2}, {'화자': ['콩쥐', '검은소'], '청자': [], 'num_sentence': 1}, {'화자': ['콩쥐', '검은소'], '청자': [], 'num_sentence': 12}]\",\n",
       " \"[{'화자': ['콩쥐', '검은소'], '청자': ['콩쥐'], 'num_sentence': 1}, {'화자': ['콩쥐', '검은소'], '청자': [], 'num_sentence': 4}, {'화자': ['콩쥐'], '청자': [], 'num_sentence': 1}, {'화자': ['콩쥐'], '청자': [], 'num_sentence': 3}, {'화자': ['콩쥐'], '청자': [], 'num_sentence': 2}]\",\n",
       " \"[{'화자': ['콩쥐', '제'], '청자': [], 'num_sentence': 2}, {'화자': ['콩쥐'], '청자': [], 'num_sentence': 1}, {'화자': ['콩쥐', '부인'], '청자': [], 'num_sentence': 2}, {'화자': ['콩쥐', '부인'], '청자': [], 'num_sentence': 1}]\",\n",
       " '[]',\n",
       " \"[{'화자': ['콩쥐', '부인'], '청자': [], 'num_sentence': 6}]\",\n",
       " \"[{'화자': ['차사'], '청자': [], 'num_sentence': 1}, {'화자': ['차사'], '청자': [], 'num_sentence': 4}, {'화자': ['관차'], '청자': [], 'num_sentence': 3}, {'화자': ['관차'], '청자': [], 'num_sentence': 6}]\",\n",
       " \"[{'화자': ['관차'], '청자': [], 'num_sentence': 3}]\",\n",
       " \"[{'화자': ['감사'], '청자': [], 'num_sentence': 1}, {'화자': ['감사'], '청자': ['콩쥐', '외숙'], 'num_sentence': 1}, {'화자': ['팥쥐', '제'], '청자': [], 'num_sentence': 1}]\",\n",
       " \"[{'화자': ['팥쥐'], '청자': [], 'num_sentence': 5}]\",\n",
       " \"[{'화자': ['콩쥐', '팥쥐'], '청자': [], 'num_sentence': 1}]\",\n",
       " \"[{'화자': ['감사', '하인'], '청자': [], 'num_sentence': 1}, {'화자': ['팥쥐', '감사'], '청자': [], 'num_sentence': 1}, {'화자': ['팥쥐', '감사'], '청자': [], 'num_sentence': 2}]\",\n",
       " \"[{'화자': ['팥쥐'], '청자': [], 'num_sentence': 1}, {'화자': ['감사'], '청자': [], 'num_sentence': 1}, {'화자': ['감사'], '청자': ['감사'], 'num_sentence': 4}, {'화자': ['감사'], '청자': [], 'num_sentence': 2}]\",\n",
       " '[]',\n",
       " \"[{'화자': ['감사'], '청자': [], 'num_sentence': 1}]\"]"
      ]
     },
     "execution_count": 4,
     "metadata": {},
     "output_type": "execute_result"
    }
   ],
   "source": [
    "sl_list_1 = list(df_title_1.loc[df_title_1[\"speaker_listener\"].notnull(), \"speaker_listener\"])\n",
    "sl_list_1"
   ]
  },
  {
   "cell_type": "code",
   "execution_count": 5,
   "metadata": {},
   "outputs": [],
   "source": [
    "# eval을 안전하게 사용\n",
    "def safe_eval(item):\n",
    "    if isinstance(item, str):\n",
    "        return eval(item)\n",
    "    return item"
   ]
  },
  {
   "cell_type": "code",
   "execution_count": 6,
   "metadata": {},
   "outputs": [
    {
     "data": {
      "text/plain": [
       "[{'화자': ['어머니'], '청자': [], 'num_sentence': 2},\n",
       " {'화자': ['어머니'], '청자': [], 'num_sentence': 2},\n",
       " {'화자': ['콩쥐', '검은소'], '청자': [], 'num_sentence': 1},\n",
       " {'화자': ['콩쥐', '검은소'], '청자': [], 'num_sentence': 12},\n",
       " {'화자': ['콩쥐', '검은소'], '청자': ['콩쥐'], 'num_sentence': 1},\n",
       " {'화자': ['콩쥐', '검은소'], '청자': [], 'num_sentence': 4},\n",
       " {'화자': ['콩쥐'], '청자': [], 'num_sentence': 1},\n",
       " {'화자': ['콩쥐'], '청자': [], 'num_sentence': 3},\n",
       " {'화자': ['콩쥐'], '청자': [], 'num_sentence': 2},\n",
       " {'화자': ['콩쥐', '제'], '청자': [], 'num_sentence': 2},\n",
       " {'화자': ['콩쥐'], '청자': [], 'num_sentence': 1},\n",
       " {'화자': ['콩쥐', '부인'], '청자': [], 'num_sentence': 2},\n",
       " {'화자': ['콩쥐', '부인'], '청자': [], 'num_sentence': 1},\n",
       " {'화자': ['콩쥐', '부인'], '청자': [], 'num_sentence': 6},\n",
       " {'화자': ['차사'], '청자': [], 'num_sentence': 1},\n",
       " {'화자': ['차사'], '청자': [], 'num_sentence': 4},\n",
       " {'화자': ['관차'], '청자': [], 'num_sentence': 3},\n",
       " {'화자': ['관차'], '청자': [], 'num_sentence': 6},\n",
       " {'화자': ['관차'], '청자': [], 'num_sentence': 3},\n",
       " {'화자': ['감사'], '청자': [], 'num_sentence': 1},\n",
       " {'화자': ['감사'], '청자': ['콩쥐', '외숙'], 'num_sentence': 1},\n",
       " {'화자': ['팥쥐', '제'], '청자': [], 'num_sentence': 1},\n",
       " {'화자': ['팥쥐'], '청자': [], 'num_sentence': 5},\n",
       " {'화자': ['콩쥐', '팥쥐'], '청자': [], 'num_sentence': 1},\n",
       " {'화자': ['감사', '하인'], '청자': [], 'num_sentence': 1},\n",
       " {'화자': ['팥쥐', '감사'], '청자': [], 'num_sentence': 1},\n",
       " {'화자': ['팥쥐', '감사'], '청자': [], 'num_sentence': 2},\n",
       " {'화자': ['팥쥐'], '청자': [], 'num_sentence': 1},\n",
       " {'화자': ['감사'], '청자': [], 'num_sentence': 1},\n",
       " {'화자': ['감사'], '청자': ['감사'], 'num_sentence': 4},\n",
       " {'화자': ['감사'], '청자': [], 'num_sentence': 2},\n",
       " {'화자': ['감사'], '청자': [], 'num_sentence': 1}]"
      ]
     },
     "execution_count": 6,
     "metadata": {},
     "output_type": "execute_result"
    }
   ],
   "source": [
    "sl_list_1 = [safe_eval(sl) for sl in sl_list_1]\n",
    "\n",
    "sl_list_flatten = double_to_single(sl_list_1)\n",
    "sl_list_flatten"
   ]
  },
  {
   "cell_type": "markdown",
   "metadata": {},
   "source": [
    "* `{\"화자\": [\"천자\", \"공\"], \"청자\": [\"김씨\"], \"num_sentence\": 6}` 형식이 기본 element인 리스트 데이터를 받는다고 가정\n",
    "* `[\"공\", \"형\", \"동생\"]` 메인 캐릭터 리스트도 받음"
   ]
  },
  {
   "cell_type": "code",
   "execution_count": 7,
   "metadata": {},
   "outputs": [],
   "source": [
    "plt.rc('font', family='Malgun Gothic')"
   ]
  },
  {
   "cell_type": "markdown",
   "metadata": {},
   "source": [
    "## Main Character"
   ]
  },
  {
   "cell_type": "markdown",
   "metadata": {},
   "source": [
    "### Characters 대사 비율"
   ]
  },
  {
   "cell_type": "code",
   "execution_count": 9,
   "metadata": {},
   "outputs": [],
   "source": [
    "from collections import defaultdict\n",
    "\n",
    "def compute_line_count(sl_list):\n",
    "    sl_list = [safe_eval(sl) for sl in sl_list]\n",
    "\n",
    "    line_count = defaultdict(int)\n",
    "    for speaker_listener in sl_list:\n",
    "        speaker, listener, interaction = speaker_listener[\"화자\"], speaker_listener[\"청자\"], speaker_listener[\"num_sentence\"]\n",
    "\n",
    "        for s in speaker:\n",
    "            line_count[s] += interaction\n",
    "        for l in listener:\n",
    "            line_count[l] += interaction\n",
    "    return line_count"
   ]
  },
  {
   "cell_type": "code",
   "execution_count": 10,
   "metadata": {},
   "outputs": [],
   "source": [
    "import matplotlib.pyplot as plt\n",
    "\n",
    "def plotting_count(title, result, top_k=20, plot=True):\n",
    "    # defaultdict에서 키가 숫자인 것을 제거\n",
    "    result.pop(0, None)\n",
    "\n",
    "    # 딕셔너리를 키 값에 따라 정렬\n",
    "    sorted_result = dict(sorted(result.items(), key=lambda item: item[1], reverse=True))\n",
    "    avg_line_count = np.mean(list(sorted_result.values()))\n",
    "\n",
    "    # 상위 k개 항목 선택\n",
    "    if len(sorted_result) <= top_k:\n",
    "        selected_items = sorted_result\n",
    "    else:\n",
    "        selected_items = dict(list(sorted_result.items())[:top_k])\n",
    "\n",
    "    if plot:\n",
    "        plt.figure(figsize=(12, 8))\n",
    "        # 히스토그램 그리기\n",
    "        plt.bar(selected_items.keys(), selected_items.values())\n",
    "        plt.axhline(y=avg_line_count, color='r', linestyle='--', label='Average Line Count')\n",
    "\n",
    "        plt.xlabel('Speaker')\n",
    "        plt.ylabel('Number of Lines')\n",
    "        plt.title(f'<{title}> Line Top-{top_k} Count')\n",
    "        plt.xticks(rotation=30)  # x축 라벨 회전\n",
    "        plt.show()\n",
    "\n",
    "    return sorted_result"
   ]
  },
  {
   "cell_type": "code",
   "execution_count": 11,
   "metadata": {},
   "outputs": [
    {
     "data": {
      "image/png": "[encoded data removed]",
      "text/plain": [
       "<Figure size 1200x800 with 1 Axes>"
      ]
     },
     "metadata": {},
     "output_type": "display_data"
    }
   ],
   "source": [
    "count_res = compute_line_count(sl_list_flatten)\n",
    "character_list = plotting_count(\"금방울전(金鈴傳)\", count_res)"
   ]
  },
  {
   "cell_type": "markdown",
   "metadata": {},
   "source": [
    "### Main Character 추출"
   ]
  },
  {
   "cell_type": "code",
   "execution_count": 12,
   "metadata": {},
   "outputs": [],
   "source": [
    "def extract_main_characters(cha_list):\n",
    "    total = len(cha_list)\n",
    "    \n",
    "    values = np.array([*cha_list.values()])\n",
    "\n",
    "    # Q3 (제 3사분위수) 계산\n",
    "    Q3 = np.percentile(values, 75)\n",
    "    \n",
    "    # Q3를 초과하는 값의 개수 세기\n",
    "    count = sum(1 for v in values if v > Q3)\n",
    "\n",
    "    N = min(total, max(10, count))\n",
    "\n",
    "    return [*cha_list.keys()][:N]"
   ]
  },
  {
   "cell_type": "code",
   "execution_count": 13,
   "metadata": {},
   "outputs": [],
   "source": [
    "main_characters = extract_main_characters(character_list)"
   ]
  },
  {
   "cell_type": "markdown",
   "metadata": {},
   "source": [
    "# 1. Interaction score"
   ]
  },
  {
   "cell_type": "markdown",
   "metadata": {},
   "source": [
    "## Matrix 구성"
   ]
  },
  {
   "cell_type": "code",
   "execution_count": 14,
   "metadata": {},
   "outputs": [],
   "source": [
    "import numpy as np\n",
    "\n",
    "def compute_network_density(sl_list, c_list):\n",
    "    N = len(c_list)\n",
    "    mat = np.zeros((N,N))     # 2차원 행렬 구성, Symmetric\n",
    "    score = 0\n",
    "\n",
    "    # 레이블링\n",
    "    label_dict = {item: index for index, item in enumerate(c_list)}\n",
    "\n",
    "    # str -> dict\n",
    "    sl_list = [safe_eval(sl) for sl in sl_list]\n",
    "\n",
    "    # 인물 수 계산\n",
    "    current_c_list = []\n",
    "\n",
    "    for speaker_listener in sl_list:\n",
    "        speaker, listener, interaction = speaker_listener[\"화자\"], speaker_listener[\"청자\"], speaker_listener[\"num_sentence\"]\n",
    "        \n",
    "        # interaction 인물들만 고려\n",
    "        speaker = [s for s in speaker if s in c_list]\n",
    "        listener = [l for l in listener if l in c_list]\n",
    "\n",
    "        # 청자가 없는 경우, 자기 자신 셀에 입력\n",
    "        if len(listener) == 0:\n",
    "            for s in speaker:\n",
    "                if s not in current_c_list:\n",
    "                    current_c_list.append(s)\n",
    "                i = label_dict[s]\n",
    "                mat[i, i] += interaction\n",
    "        else:\n",
    "            for s in speaker:\n",
    "                if s not in current_c_list:\n",
    "                    current_c_list.append(s)\n",
    "                i = label_dict[s]\n",
    "                for l in listener:\n",
    "                    if l not in current_c_list:\n",
    "                        current_c_list.append(l)\n",
    "                    j = label_dict[l]\n",
    "                    mat[i, j] += interaction\n",
    "                    mat[j, i] += interaction\n",
    "    \n",
    "    score = (len(current_c_list) ** 2) * np.sum(mat) / (N * (N-1) / 2)\n",
    "\n",
    "    return {\"Interaction matrix\": mat,\n",
    "            \"Interaction score\": score,\n",
    "            \"Key characters\": c_list}"
   ]
  },
  {
   "cell_type": "markdown",
   "metadata": {},
   "source": [
    "### 정규화"
   ]
  },
  {
   "cell_type": "code",
   "execution_count": 15,
   "metadata": {},
   "outputs": [],
   "source": [
    "def softmax(score_list):\n",
    "    score_list = np.array(score_list)\n",
    "    return np.exp(score_list) / np.sum(np.exp(score_list))"
   ]
  },
  {
   "cell_type": "code",
   "execution_count": 16,
   "metadata": {},
   "outputs": [],
   "source": [
    "def log_normalize(score_list):\n",
    "    score_list = np.array(score_list)\n",
    "    return np.log(1+score_list) / np.sum(np.log(1+score_list))"
   ]
  },
  {
   "cell_type": "code",
   "execution_count": 17,
   "metadata": {},
   "outputs": [],
   "source": [
    "def normalize(score_list):\n",
    "    score_list = np.array(score_list)\n",
    "    return score_list / np.sum(score_list)"
   ]
  },
  {
   "cell_type": "code",
   "execution_count": 24,
   "metadata": {},
   "outputs": [],
   "source": [
    "from scipy.stats import rankdata\n",
    "\n",
    "def compute_uniform_rank(score_list):\n",
    "    N = len(score_list)\n",
    "    # 점수 리스트를 내림차순으로 정렬하여 랭크를 매김\n",
    "    ranks = rankdata(score_list, method='max')\n",
    "\n",
    "    # 랭크를 0부터 1까지 N등분하여 uniform하게 점수를 부여\n",
    "    uniform_scores = np.array([(rank - 1) / (len(score_list) - 1) for rank in ranks])\n",
    "\n",
    "    return uniform_scores"
   ]
  },
  {
   "cell_type": "code",
   "execution_count": 26,
   "metadata": {},
   "outputs": [
    {
     "name": "stdout",
     "output_type": "stream",
     "text": [
      "[0.1875 0.1875 0.3125 1.     0.8125 0.875  0.1875 0.6875 0.75   0.375\n",
      " 0.9375 0.4375 0.5    0.5625 0.6875 0.1875 0.25  ]\n"
     ]
    }
   ],
   "source": [
    "interaction_list = [compute_network_density(sl, main_characters) for sl in sl_list_1]\n",
    "interaction_score_list = np.array([i[\"Interaction score\"] for i in interaction_list])\n",
    "\n",
    "IntScore = compute_uniform_rank(interaction_score_list)\n",
    "# print(interaction_score_list)\n",
    "print(IntScore)"
   ]
  },
  {
   "cell_type": "markdown",
   "metadata": {},
   "source": [
    "* rank로 하는 것이 가장 좋았음, 0부터 1까지 균등하게 반영할 수 있음"
   ]
  },
  {
   "cell_type": "code",
   "execution_count": 20,
   "metadata": {},
   "outputs": [
    {
     "name": "stdout",
     "output_type": "stream",
     "text": [
      "Interaction Max 1.0000\n",
      "그때 갑자기 하늘에서 검은 소 한 마리가 내려오더니 콩쥐를 보고 묻는 것이었다. \"너는 무슨 일이 있어서 그만큼 우는 거니? 내게 자세한 이야기를 해봐.\" 콩쥐가 일어난 순서를 이야기하자 검은소가 말했다. \"그러면 너는 바로 발을 씻는 곳에 가서 발 씻고, 손을 씻는 곳에 가서 손 씻고, 얼굴을 씻는 곳에 가서 낯 씻고 와.\" 콩쥐는 그대로 손과 발, 얼굴을 씻고 한참 후에 돌아왔어. 그러자 검은 소는 좋은 농사일 도구와 여러 가지 과일을 옷자락에 싸 주고는 갑자기 사라져 버리는 거였어. 콩쥐는 그 선물을 받았지만 아버지께도 보여주고 어머니께도 이야기하며 팥쥐와도 공평하게 나눠 먹을 생각으로 아무것도 입에 넣지 않았어. 그리고 잠시 동안에 몇 마지기 밭을 가다듬고 집으로 돌아왔어. 그런데 문은 이미 닫혀 있었고, 집 안에서는 저녁밥을 해 먹고 있는 팥쥐와 함께 앉아 즐겁게 식사하고 있는 것 같았어. 콩쥐는 작은 쥐가 문 틈으로 과일을 밀어 넣어서 안으로 들어갈 수 있었어. 하지만 그 과일이 통째로 빼앗겨서 오히려 콩쥐에게 큰 불행이 찾아왔어. 대대로 배씨의 명령이 내려진 것이었어. \"콩쥐야, 여기 와봐. 네가 시킨 김이나 뭐 그런 거 할 때는 빨리 끝내고 돌아와서 밥 먹고 다른 할 일도 해야지. 그동안 뭐 했니? 그리고 잘못한 건 어디서 나왔다고 생각해? 이건 분명히 부당한 일로 보이는데, 그 사람이 분명히 나쁜 소리를 듣고 얻은 거야!\" \"네 그렇지 않으면 어디서 나온다고 말하냐? 소녀가 나이가 열댓살 정도로 젊어서 이미 지나가는 사람들을 괴롭히는 거야? 이런 짓을 네 아버지께서 알게 되면 큰일 날 거야! 이 사람은 이기적인 사람이야. 이것을 빨리 처리하고 아버지가 알지 못하게 해. 알아차릴 날이면 누나는 죽는 날이야. 누나는 충분히 먹었으니 그만두고 너가 빨리 처리해.\" 콩쥐는 밥도 얻어먹지 못하고 그 날 밤을 눈물로 울면서 보냈다.\n",
      "\n",
      "Interaction Min 0.1875\n",
      "콩쥐팥쥐전 조선 시대 중엽, 전라도 전주 서문 밖에 최만춘이라는 한 공직에서 퇴임한 관리가 아내 조씨와 이십여 년을 같이 살아왔건만 슬하에 자식이 없어 걱정하며 기도와 불공도 하고 어려움이나 가난한 상태에 있는 사람에게 도움이나 지원을 주었는데, 그러는 사이에 하늘이 감동하였는지 하루는 부부가 신기한 꿈을 얻고 이내 부인에게 병이나 고통 따위가 생기는 것이 있었다. 열 달이 차자 갑자기 깊은 향기가 방 안에 퍼지며 갑자기 아들을 낳은 여자가 나타났어. 그녀는 딸의 이름을 콩쥐라 지어서 사랑을 가득 담아 키웠어. 하지만 어머니의 운명이 그랬는지, 아니면 신의 뜻이 그랬는지 콩쥐가 태어난 지 겨우 백 날 만에 부인이 세상을 떠나게 되었어. 그래서 최만춘은 의도치 않게 중년에 아내를 잃고 홀아비가 되었어. 만춘은 외로움을 느끼고 적적할 때면 죽은 아내를 생각하여 눈물을 흘리며 어린 콩쥐를 안고 다니면서 동네 노부인들의 젖을 얻어먹였다. 그러나 하루 이틀도 아니고 일 년을 그랬으니 그 고생이 어떠했을까? 철 모르는 콩쥐가 젖 찾는 소리를 죽은 어미의 혼이 만약 있어 들었다면 그 흘리는 눈물이 변하여 비라도 되었을 것이다.\n"
     ]
    }
   ],
   "source": [
    "df_sub_idx = df_title_1.index\n",
    "\n",
    "max_score = IntScore.max()\n",
    "min_score = IntScore.min()\n",
    "\n",
    "max_idx = np.where(IntScore == max_score)\n",
    "min_idx = np.where(IntScore == min_score)\n",
    "\n",
    "print(f\"Interaction Max {max(IntScore):.4f}\")\n",
    "print(df.loc[df_sub_idx[max_idx[0][0]], \"quote_dup_fixed\"])\n",
    "print()\n",
    "print(f\"Interaction Min {min(IntScore):.4f}\")\n",
    "print(df.loc[df_sub_idx[min_idx[0][0]], \"quote_dup_fixed\"])"
   ]
  },
  {
   "cell_type": "markdown",
   "metadata": {},
   "source": [
    "* Interaction이 괜찮은 지표인 듯!"
   ]
  },
  {
   "cell_type": "markdown",
   "metadata": {},
   "source": [
    "# 2. Diversity"
   ]
  },
  {
   "cell_type": "markdown",
   "metadata": {},
   "source": [
    "## 2-1. Character Variation"
   ]
  },
  {
   "cell_type": "code",
   "execution_count": 21,
   "metadata": {},
   "outputs": [],
   "source": [
    "def compute_character_variation(s1, s2, character_list):\n",
    "    s1 = safe_eval(s1)\n",
    "    s2 = safe_eval(s2)\n",
    "    character_list = safe_eval(character_list)\n",
    "\n",
    "    s1_set = set([s for s in s1 if s in character_list])\n",
    "    s2_set = set([s for s in s2 if s in character_list])\n",
    "\n",
    "    # 합집합 구하기\n",
    "    union_set = s1_set.union(s2_set)\n",
    "\n",
    "    # 교집합 구하기\n",
    "    intersection_set = s1_set.intersection(s2_set)\n",
    "\n",
    "    if len(union_set) > 0:\n",
    "        cv = 1 - len(intersection_set) / len(union_set)\n",
    "    else:\n",
    "        cv = 0\n",
    "\n",
    "    return cv"
   ]
  },
  {
   "cell_type": "code",
   "execution_count": 22,
   "metadata": {},
   "outputs": [],
   "source": [
    "df_sub_idx = df_title_1.index"
   ]
  },
  {
   "cell_type": "code",
   "execution_count": 27,
   "metadata": {},
   "outputs": [
    {
     "name": "stdout",
     "output_type": "stream",
     "text": [
      "[0.5625 0.     0.5625 0.75   0.5625 1.     1.     0.875  0.3125 0.75\n",
      " 0.8125 0.5625 0.625  0.0625 0.125  0.25   0.25  ]\n"
     ]
    }
   ],
   "source": [
    "CvScore = np.array([])\n",
    "\n",
    "character_list\n",
    "\n",
    "for i in range(len(df_sub_idx) - 1):\n",
    "    s1 = df.loc[df_sub_idx[i], \"NE_tagged_modernized_set\"]\n",
    "    s2 = df.loc[df_sub_idx[i+1], \"NE_tagged_modernized_set\"]\n",
    "\n",
    "    character_variation = compute_character_variation(s1, s2, character_list)\n",
    "    CvScore = np.append(CvScore, character_variation)\n",
    "CvScore = np.append(CvScore, CvScore[i])\n",
    "\n",
    "CvScore = compute_uniform_rank(CvScore)     # 정규화\n",
    "print(CvScore)"
   ]
  },
  {
   "cell_type": "markdown",
   "metadata": {},
   "source": [
    "## 2-2. Sentiment Variation"
   ]
  },
  {
   "cell_type": "code",
   "execution_count": 28,
   "metadata": {},
   "outputs": [],
   "source": [
    "def compute_sentiment_variation(sentiment_scores):\n",
    "    sentiment_scores = safe_eval(sentiment_scores)\n",
    "    sentiment_scores = np.array(sentiment_scores)\n",
    "    N = len(sentiment_scores)\n",
    "\n",
    "    sentiment_degree = np.sum(np.abs(sentiment_scores)) / N\n",
    "    sentiment_bias = np.abs(np.mean(sentiment_scores))\n",
    "\n",
    "    return sentiment_degree - sentiment_bias"
   ]
  },
  {
   "cell_type": "code",
   "execution_count": 29,
   "metadata": {},
   "outputs": [
    {
     "name": "stdout",
     "output_type": "stream",
     "text": [
      "[0.0, 0.0, -0.8325576186180115, -0.901943862438202, -0.9148744344711304, -0.7584396600723267, -0.7943747639656067, 0.0, -0.7811559438705444, 0.0, -0.9944974780082704, -0.7866427302360535, 0.8344453573226929, -0.4044724404811859, -0.921560525894165, -0.7988924980163574, 0.0, -0.6668367981910706, -0.963058352470398, 0.0, 0.0]\n",
      "0.07947098641168504\n"
     ]
    }
   ],
   "source": [
    "sentiments = df.loc[0, \"sentiment_score\"]\n",
    "print(sentiments)\n",
    "print(compute_sentiment_variation(sentiments))"
   ]
  },
  {
   "cell_type": "code",
   "execution_count": 30,
   "metadata": {},
   "outputs": [
    {
     "name": "stdout",
     "output_type": "stream",
     "text": [
      "[0.4375 0.875  0.1875 0.25   0.1875 1.     0.9375 0.1875 0.75   0.5\n",
      " 0.375  0.3125 0.1875 0.6875 0.625  0.8125 0.5625]\n"
     ]
    }
   ],
   "source": [
    "SvScore = np.array([])\n",
    "\n",
    "for i in range(len(df_sub_idx)):\n",
    "    sentiments = df.loc[df_sub_idx[i], \"sentiment_score\"]\n",
    "\n",
    "    sentiment_variation = compute_sentiment_variation(sentiments)\n",
    "    SvScore = np.append(SvScore, sentiment_variation)\n",
    "SvScore = compute_uniform_rank(SvScore)     # 정규화\n",
    "print(SvScore)"
   ]
  },
  {
   "cell_type": "markdown",
   "metadata": {},
   "source": [
    "# 3. Line Proportion"
   ]
  },
  {
   "cell_type": "code",
   "execution_count": 31,
   "metadata": {},
   "outputs": [],
   "source": [
    "def compute_proportion(idx, total_idx):\n",
    "    scene = df.loc[idx, \"sentence_length\"]\n",
    "    total_scene = sum(df.loc[total_idx, \"sentence_length\"])\n",
    "\n",
    "    return scene / total_scene"
   ]
  },
  {
   "cell_type": "code",
   "execution_count": 32,
   "metadata": {},
   "outputs": [
    {
     "name": "stdout",
     "output_type": "stream",
     "text": [
      "[0.1875 0.5    0.125  0.6875 0.875  0.9375 0.25   0.     0.75   0.375\n",
      " 0.8125 0.5625 0.3125 0.625  1.     0.4375 0.0625]\n"
     ]
    }
   ],
   "source": [
    "PropScore = np.array([])\n",
    "\n",
    "for i in df_sub_idx:\n",
    "    prop_score = compute_proportion(i, df_sub_idx)\n",
    "    PropScore = np.append(PropScore, prop_score)\n",
    "PropScore = compute_uniform_rank(PropScore)     # 정규화\n",
    "print(PropScore)"
   ]
  },
  {
   "cell_type": "markdown",
   "metadata": {},
   "source": [
    "# 4. 장면 뽑기!"
   ]
  },
  {
   "cell_type": "markdown",
   "metadata": {},
   "source": [
    "## 1. 시각화"
   ]
  },
  {
   "cell_type": "code",
   "execution_count": 33,
   "metadata": {},
   "outputs": [
    {
     "data": {
      "text/plain": [
       "array([1.375 , 1.5625, 1.1875, 2.6875, 2.4375, 3.8125, 2.375 , 1.75  ,\n",
       "       2.5625, 2.    , 2.9375, 1.875 , 1.625 , 1.9375, 2.4375, 1.6875,\n",
       "       1.125 ])"
      ]
     },
     "execution_count": 33,
     "metadata": {},
     "output_type": "execute_result"
    }
   ],
   "source": [
    "# 최종 LSP 스코어 구하기\n",
    "\n",
    "LSP_score = IntScore + CvScore + SvScore + PropScore\n",
    "LSP_score"
   ]
  },
  {
   "cell_type": "code",
   "execution_count": 34,
   "metadata": {},
   "outputs": [
    {
     "data": {
      "image/png": "[encoded data removed]",
      "text/plain": [
       "<Figure size 1600x600 with 1 Axes>"
      ]
     },
     "metadata": {},
     "output_type": "display_data"
    }
   ],
   "source": [
    "import matplotlib.pyplot as plt\n",
    "import seaborn as sns\n",
    "\n",
    "plt.figure(figsize=(16,6))\n",
    "sns.barplot(x=np.arange(len(LSP_score)), y=LSP_score)\n",
    "plt.xticks([])\n",
    "plt.title(\"임진록\", fontsize=20)\n",
    "plt.xlabel(\"Scene #\")\n",
    "plt.ylabel(\"LSP Score\")\n",
    "plt.show()"
   ]
  },
  {
   "cell_type": "markdown",
   "metadata": {},
   "source": [
    "## 2. Top-k / Worst-k"
   ]
  },
  {
   "cell_type": "code",
   "execution_count": 35,
   "metadata": {},
   "outputs": [],
   "source": [
    "sorted_indices = np.argsort(LSP_score)\n",
    "\n",
    "# 높은 점수 순으로 상위 3개의 인덱스\n",
    "top_3_high_indices = sorted_indices[-3:][::-1]\n",
    "\n",
    "# 낮은 점수 순으로 하위 3개의 인덱스\n",
    "worst_3_low_indices = sorted_indices[:3]"
   ]
  },
  {
   "cell_type": "code",
   "execution_count": 36,
   "metadata": {},
   "outputs": [
    {
     "name": "stdout",
     "output_type": "stream",
     "text": [
      "3.8125\n",
      "0.875\n",
      "1.0\n",
      "1.0\n",
      "0.9375\n",
      "그러구려 세월을 보내는데 콩쥐의 외갓집 조씨 댁에서 무슨 잔치가 있어 콩쥐를 불렀다. 그러자 염치도 없고 인사도 모르는 계모인 배씨는 큰 마누라 본가 잔치에 무슨 체면으로 나서려는지 콩쥐는 젖혀 놓고 제가 먼저 날뛰는 것이었다. \"콩쥐야, 너는 집을 잘 보호해. 잠시 나가 있을 테니, 만약 너도 나와 함께 가고 싶다면 딱딱한 것을 부수어 먹을 겉피 석 섬만 깨끗이 부수어 놓고 기다려.\" 그리고는 비단 저고리를 꺼내 입고 싸두었던 진신을 꺼내 신고 한동안 수선을 피우며 맵시를 내더니 팥쥐만 데리고 떠났다. \n",
      "\n",
      "맵시: 물건들을 묶어서 들고 다니는 것 하는 수 없이 콩쥐는 혼자 쓰러져서 눈물을 흘리며 겉면 석 섬을 마당에 널어 놓고 무엇인가를 만들거나 짜는 도구 위에 올라앉아서 소리나는 모습으로 일을 시작하였다. 그러나 무슨 능력으로 한 필 베를 짜며 석 섬 겉면을 찢으랴? 콩쥐는 얼마나 울었던지 정신을 못 차릴 지경이었다. 그런데 이게 웬일인가? 콩쥐가 한 번도 보지 못한 예쁜 여인이 눈부시게 빛나는 비단옷을 세련되게 차려 입고 퍼지면서 향기를 풍기며 분명한 모습으로 뚜렷한 베틀 앞에 다가서며 콩쥐를 보고 베틀에서 내려오기를 서두르는 것이었다. \"내가 비록 재주는 없어도 다른 사람에게 빌린다면 바로 만들어 줄 테니 아가씨는 곧 떠날 돈을 마련하도록 해요.\" 콩쥐가 농작물을 갈기 위해 소를 끌어가는 농기구에서 내려오자, 부인은 농기구에 올라앉아 알마 안 가서 짜던 것을 다 마치고 농기구에서 내려오며 말했다. \"아가씨, 이제 일이 끝났으니 어서 다른 집안에 가세요. 또한 도중에서 좋은 기회도 있을 테니 되도록 참아 보면 차차 고생을 면하고 부유하고 풍요로운 삶을 살게 될지도 모르는 일이에요.\" 그러고는 한 명주로 만든 고급스러운 보자기를 풀어 헤치더니 새로 지은 옷 한 벌과 머리에 쓰는 머리띠와 신발까지 새것을 내주면서, \"나는 하늘에서 내려와 사람을 도우며 예언하는 신비한 여자로서 하늘의 왕의 허락을 받고 이와 같이 왔으니 오래도록 머물지 못하오.\" 하고는 얼른 몸을 높이 뛰어 공중으로 날아가는 것이었다. 콩쥐가 멍하니 바라보다가 갑자기 정신을 차리고 막대기를 들고 일어나서 마당으로 내려갔어. 그때, 새 떼가 겉피를 쪼아 먹다가 날아가 버렸지만, 겉피 안에는 알맹이가 그대로 남아 있었어. 나중에 알고 보니 새 떼는 겉피를 떼어 놓은 거였어.\n",
      "\n",
      "2.9375\n",
      "0.9375\n",
      "0.8125\n",
      "0.375\n",
      "0.8125\n",
      "이번에 새로 임명된 감사는 성이 김씨였어. 김감사는 예전에 아들을 낳지 못하고 부인을 잃은 어려운 처지였어. 부인이 돌아가신 후에는 부인 이외의 여자를 맞이하지 않고 스스로 마음을 다스리며 세월을 보내고 있었어. 그래서 자연의 신비한 것을 좋아하고 연구하는 성향이 생겨서 작은 것일지라도 눈에 띄고 귀에 들리는 것이 기이하게 여겨지면 꼭 알아내야만 했어. 김감사는 전날에는 이상한 서기를 보고 새신짝을 받았기 때문에 호기심에 사로잡혀 신하를 만나보고 싶어했어. 그런데 의외로도 신하를 찾으러 나갔던 관차가 중요하게 생각한 관령만을 중요시해 다른 집 소녀를 데려왔다고 해서 김감사는 매우 놀랐다. 그래서 감사는, \"어떤 처녀가 그만큼 남자에게 사랑을 받을까요?\" 하고 이유를 자세히 외삼촌에게 물었지만 낯선 사람이라 대해서는 뭐라 대답할 수 없었기 때문에 결국 작은 쥐로 하여금 친히 대답하도록 하였다. 콩쥐는 모친의 상사를 당한 일로부터 시작하여 계모 배씨가 들어온 이후에 있었던 그 동안의 일을 자세히 이야기했다. 감사는 놀란 동시에 기뻐하며 얼마 후 그 외숙에게 콩쥐와 결혼할 의사를 밝히고 그 의견을 물었다. \"나로서는 다른 사람의 말을 따르지 않을 수 없지만, 결혼하지 않은 여자의 아버지가 계시니 일단 물러나서 상의한 후에 다시 돌아와 말씀드리겠습니다.\" 최만춘으로서는 콩쥐의 이야기를 싫어할 이유가 없었다. 그래서 결혼을 승낙하고 빨리 선택을 해서 콩쥐에게 선물을 준비하고 시집을 보냈다. 그런데 배씨는 당초에 제가 잘 되어 영화를 누려 볼 능력으로 전날 계획을 속여 제가 잃어버린 신이라 하고 콩쥐의 복을 빼앗으려 하다가 발각되어 두려움을 당한 후로는 콩쥐를 미워하는 마음이 더욱 심하여졌고, 팥쥐도 또한 샘이 북받쳐 이를 빠르게 갈면서 기회가 오기를 벼르고 있었다. \"콩쥐 저 년이 지금은 저렇게 고운 옷에 옷을 단정하게 입고 주인의 부인이 되어 가지만 네가 내 솜씨 앞에서 어차피 엉덩이를 벌리고 앉아서 편안하게 살 수는 없을 거야.\"\n",
      "\n",
      "2.6875\n",
      "1.0\n",
      "0.75\n",
      "0.25\n",
      "0.6875\n",
      "그때 갑자기 하늘에서 검은 소 한 마리가 내려오더니 콩쥐를 보고 묻는 것이었다. \"너는 무슨 일이 있어서 그만큼 우는 거니? 내게 자세한 이야기를 해봐.\" 콩쥐가 일어난 순서를 이야기하자 검은소가 말했다. \"그러면 너는 바로 발을 씻는 곳에 가서 발 씻고, 손을 씻는 곳에 가서 손 씻고, 얼굴을 씻는 곳에 가서 낯 씻고 와.\" 콩쥐는 그대로 손과 발, 얼굴을 씻고 한참 후에 돌아왔어. 그러자 검은 소는 좋은 농사일 도구와 여러 가지 과일을 옷자락에 싸 주고는 갑자기 사라져 버리는 거였어. 콩쥐는 그 선물을 받았지만 아버지께도 보여주고 어머니께도 이야기하며 팥쥐와도 공평하게 나눠 먹을 생각으로 아무것도 입에 넣지 않았어. 그리고 잠시 동안에 몇 마지기 밭을 가다듬고 집으로 돌아왔어. 그런데 문은 이미 닫혀 있었고, 집 안에서는 저녁밥을 해 먹고 있는 팥쥐와 함께 앉아 즐겁게 식사하고 있는 것 같았어. 콩쥐는 작은 쥐가 문 틈으로 과일을 밀어 넣어서 안으로 들어갈 수 있었어. 하지만 그 과일이 통째로 빼앗겨서 오히려 콩쥐에게 큰 불행이 찾아왔어. 대대로 배씨의 명령이 내려진 것이었어. \"콩쥐야, 여기 와봐. 네가 시킨 김이나 뭐 그런 거 할 때는 빨리 끝내고 돌아와서 밥 먹고 다른 할 일도 해야지. 그동안 뭐 했니? 그리고 잘못한 건 어디서 나왔다고 생각해? 이건 분명히 부당한 일로 보이는데, 그 사람이 분명히 나쁜 소리를 듣고 얻은 거야!\" \"네 그렇지 않으면 어디서 나온다고 말하냐? 소녀가 나이가 열댓살 정도로 젊어서 이미 지나가는 사람들을 괴롭히는 거야? 이런 짓을 네 아버지께서 알게 되면 큰일 날 거야! 이 사람은 이기적인 사람이야. 이것을 빨리 처리하고 아버지가 알지 못하게 해. 알아차릴 날이면 누나는 죽는 날이야. 누나는 충분히 먹었으니 그만두고 너가 빨리 처리해.\" 콩쥐는 밥도 얻어먹지 못하고 그 날 밤을 눈물로 울면서 보냈다.\n",
      "\n"
     ]
    }
   ],
   "source": [
    "for top in top_3_high_indices:\n",
    "    print(LSP_score[top])\n",
    "    print(IntScore[top])\n",
    "    print(CvScore[top])\n",
    "    print(SvScore[top])\n",
    "    print(PropScore[top])\n",
    "    print(df.loc[df_sub_idx[top], \"quote_dup_fixed\"])\n",
    "    print()"
   ]
  },
  {
   "cell_type": "code",
   "execution_count": 227,
   "metadata": {},
   "outputs": [
    {
     "name": "stdout",
     "output_type": "stream",
     "text": [
      "0.9736842105263158\n",
      "0.10526315789473684\n",
      "0.34210526315789475\n",
      "0.013157894736842105\n",
      "0.5131578947368421\n",
      "선시에 심유경이 일본에 들어가 소섭으로 더불어 관백의 항표를 가지고 중국에 돌아오니 천조가 거짓 항표라 하여 의심하더니 오래지 아니하여 적이 진주를 함몰하니 그 일이 허탄한지라. 중국이 소섭을 요동에 두고 오래 희보치 아니하더라.\n",
      "→ 선시에 심유경이 일본에 들어가 일본과 중국을 오가는 배의 표지판을 가지고 중국에 돌아왔는데, 매우 큰 수를 거짓으로 표시한 항표라고 해서 의심을 받았다. 오래되지 않아서 적이 배를 침몰시켰는데, 그것이 소용없는 일이었다. 중국은 일본을 놀라게 하여 크게 실망시켰다. 이때, 여러 사람이 함께 가는 길인 여송이 제장으로 돌아가고 오직 남성을 장악하는 사람인 오유충과 왕의 명령을 받아 행동하는 왕필적 등을 각각 일지(한 묶음)군을 이끌고 성을 지키는 성주 등처에 주둔하였더니 늙고 병든 병사는 군사의 식량을 운반하기에 어려워하고 전투를 이끄는 장교는 전투에 어려움을 겪을 뿐 아니라 적의 공격을 받는 지역에서 인민이 대부분 죽게 되었고 사람들이 서로 싸워 죽이는 일이 벌어졌다. 군사들이 군대를 다른 곳으로 옮기더니 오래 머물지 않고 경성에 도착하여 십여 일을 머물렀지만 다시 돌아가고, 적은 오히려 해상에 있어서 사람들의 마음이 나빠지고 어수선해졌다. 조선이 다시 청나라 정찰을 담당하는 청병사를 천조에 보내다. 경략사 송응창이 죄를 얻어 돌아가고 고양겸이 요동에 이르러 부장 호척으로 하여금 글을 쓰거나 문서를 작성하여 아국 군사에게 부치니 그 대략에 가라사대, 왜적이 호흡 사이에 조선 삼도를 파하고 왕자와 배신을 사로잡으니 황상이 크게 놀라서 군사를 일으켜 문죄하셨다.\n",
      "적이 천위를 두려워하여 왕자와 배신을 도로 돌려보내고 마침내 멀리 도망하니 조정이 소국을 대접하심이 이에 지나지 못할지라, 이제 양향을 이루지 못할 것이요, 군사를 또한 다시 쓰지 못할지라, 왜적이 또한 천위를 두려워하여 항복하기를 청하고, 또한 봉공하기를 구하니, 천조 바야흐로 다시 침노치 않게 하려 하나니, 이는 천조가 조선을 위하여 구완지계를 함이어늘, 이제 조선이 양식이 진하여, 사람이 서로 먹기에 이른지라. 스스로 힘을 헤아리지 아니하고, 다시 군을 청함은 무슨 연고뇨? 대국이 이제 병량을 발치 아니하고, 또 왜적을 봉공하기를 그치면, 적이 반드시 노를 벌할 것이니, 조선이 어찌 화를 면하리요. 모름지기 일찍이 장구한 계교를 정하라. 옛날 월왕 구천이 회계에서 곤하였을 제 어찌 오왕 부차의 고기를 먹고자 하지 않았으리오마는 오히려 분을 참고 욕을 견디어 마침내 원수를 갚았나니 이제 조선 군신이 분을 참고 와신상담하기를 생각한즉 천의 순환하기를 바라리니 어찌 복수할 일이 없으리요. 하였더라.\n",
      "\n",
      "1.0\n",
      "0.10526315789473684\n",
      "0.39473684210526316\n",
      "0.11842105263157894\n",
      "0.3815789473684211\n",
      "이튿날 안국사로 더불어 군사를 거느려 전주로 향하여 가니 차시 고령 사람인 정남이 저희 노복과 동리사람을 데리고 피난하다가 급히 전주성에 들어가 관리자와 인민을 놓아 군기를 주어 가로되, \"적군이 웅천을 파괴하고 우세하여 전주를 치러 오니 여러분은 힘을 다해 싸우세요.\" 하고 급히 성문에 올라 성가퀴를 사용하여 성마다 무수한 기를 세우고 군사로 하여금 고각을 울리며 방포와 시석을 내리어 왜군이 이미 웅천싸움에 많이 죽은지라, 급하여 밤으로 도망하니라. 각설, 조방장 원후 이전부 등이 군사 다섯 천을 거느리고 여주로 나오더니 왜적 사천 정예군이 육만 군을 거느리고 충주를 지키며 김수 등은 사천 군을 거느려 원주를 지키게 하고 군사를 놓아 각처에 남의 물건을 훔쳐가며 혹 사오백이며 혹 육칠백이 연하여 죽산 양지 용인 양근 광주로 왕래하며 노략질하니 원후가 군사를 거느려 여주 기미포에 매복하였더니 왜장 길인걸이 다섯 천 군을 거느리고 기미포를 건너오거늘 원후가 방포를 놓으니 적의 공격을 받아 피해 피하는 행동이 일시에 내달아 급히 치니 왜국의 군대가 물에도 빠지며 살도 맞으며 죽으니 길인걸이 군사를 다 죽이고 겨우 목숨을 보전하여 도망하니라. 이 적에 이천부사 변응성이 삼천 군을 거느리고 전장을 타고 가만히 뿌옇게 짙은 물증 속으로 배를 저어 나아가며 도적을 살피더니 왜국 다섯 천이 노략질하거늘 편전과 유엽전으로 일시에 쏘아 왜국 천여 명을 죽이니 왜군이 도망하여 그 후부터는 여주 양주 근처에 감히 다니지 못하더라. 강원감사 유형립이 원후에게 도적을 잡도록 명령했다. 원후는 5천 명의 군사를 이끌고 나갔지만, 군사들은 피곤해서 걷지 못했다. 그래서 노변 여사에게 들어가 음식을 얻어 밥을 해주고 군사들을 쉬게 했다.\n",
      "왜장 선강정이 원후를 발견하고 군사를 모아 급습했는데, 원후는 대비를 제대로 취하지 못해 군기가 흩어졌다. 원후는 군관 7명과 함께 창과 검을 들고 도망쳤지만, 선강정과 싸워 30번 정도 싸웠지만, 적을 이기지 못해 문을 뚫고 도망쳐 언덕에 숨었다. 언덕 위에서 갑자기 고함이 들리자, 적이 돌진해와 총을 쏘아 원후와 군관 7명을 한 번에 죽였다.\n",
      "\n",
      "1.0526315789473684\n",
      "0.19736842105263158\n",
      "0.11842105263157894\n",
      "0.09210526315789473\n",
      "0.6447368421052632\n",
      "재설, 청정이 대군을 이끌고 함경도로 향할 새 동파역에 다다르니 산 속의 골짜기에서 두어 사람이 나오다가 왜국의 군대를 보고 당황하여 어리둥절하게 도망가는데, 청정이 군사들에게 그 사람을 잡아다가 진정시키도록 명령했다. \"만일 네가 바다로 가는 길을 가리킨다면 존경할 만하겠어.\" 한편, 그 사람이 겁을 먹어 길을 안내하고 있었는데, 청정이 대규모의 군대를 이끌고 산과 골짜기를 지나 토산을 건너 안정된 곳인 안변과 선량한 곳인 덕원을 향했다. 낮이면 갑자기 사람을 만나 해를 입었고, 마을 수령들이 당황하여 도망갔다. 청정이 마침내 함흥을 향했고, 북쪽 병사 안국양이 청정의 대군을 발견하고, 당황하여 경흥, 경원, 회령, 종성, 온성, 부평, 육진 등의 지역에서 군대를 모집하여 해변이나 강가인 해정창으로 나아갔다. 거기서 청정의 대군을 만나자마자 양군이 대결했고, 안국양이 먼저 부대장으로 하여금 각자 방패를 차고 왜국의 군대를 향해 공격했다. 적군은 대항할 수 없어서 잠시 물러났고, 국양이 마군을 놓아 적을 쫓아내자, 북쪽 말병은 말 타기에 능숙할 뿐 아니라 용감하여 적진을 갑자기 충돌하여 왜군을 많이 죽였다. 청정이 대패하여 군사를 대부분 죽이고 도망쳤지만, 국양이 군사를 쫓아 청정이 쫓아오자, 산과 골짜기로 들어가 진지하게 지켰다. 국양이 험하고 어려운 산세를 보고 군사를 놓고 넓은 들에 영채를 설치하고, 잠시 쉬었다가 왜군 장수와 정찰병을 거느린 북쪽으로 들어가 길주, 명천 등을 함몰하고, 장차 함흥으로 나아가 청정의 위태한 상황을 듣고 군사를 이끌고 청정을 접근하여 협동하여 공격했다. 청정이 대희하여 그 날 밤에 군사를 내보내 아군의 앞을 공격하고, 경감로도 그 뒤를 갑자기 공격했는데, 북쪽 군대는 용감했지만, 대적할 수 없어서 각자 도망쳤다. 안국양이 패배한 군대를 이끌고 철책이 있는 곳인 철령에 올라가 잠시 쉬었다가, 잠시 뒤에 적이 불을 지르고 올라오자, 북쪽 군대는 이미 곤란했다. 국양이 불을 무릅쓰고 힘써 싸웠지만, 남쪽에는 불이 없어서 그쪽을 향해 들어가자, 적이 뒤를 쫓아 크게 공격했고, 아군의 사망자 수를 알 수 없었다. 국양이 군사를 모두 죽이고 급히 함흥으로 도망쳤지만, 청정이 군사를 쫓아 남쪽 영역에 이르러 병사 이욱이 대경하여 갑산으로 도망쳤다. 청정이 마침내 군사를 나누어 여러 마을을 점령하여 근본을 삼았다. 차시에 세자 대군이 함흥에 도착했는데 경성장교를 지키는 사람 중 한 명이 예기치 못한 나쁜 계획을 가지고 저와 의논한 동료 십여 명이 함께 모여서 조용히 의논하며 말했다. \"이제 조선이 거의 왜국이 되어 망하고 회복할 희망이 없이 이미 파멸하였는지라. 어찌 서산의 희망을 기다리리요. 동령 새달을 좇으면 사랑치 아니하리요. 우리들이 이제 대군과 안국양을 포로로 잡아 왜진에 망명하면 반드시 중상이 있으리라.\" 하고 세자 대군이 집에 들어가 화려한 빛으로 여짜오되, \"적장 청정의 대군이 벌써 성하에 이르렀으니 급히 산 속으로 들어가 안전한 곳으로 대피하십시오.\" 세자 대군이 대경하여 즉시 중신 김대영 황정욱 등과 감사 유영립 등으로 더불어 일시에 성문을 달아 황망히 도망쳤다. 그때 날씨가 어두워서 국경인이 길을 안내하다가 함정에 빠뜨려 매복하고 있던 동료가 나타나 결박하여 말을 태워 북영으로 들어가 청정에게 전달했다. 청정은 대희하여 국경인에게 관직을 주었고, 나머지 사람들은 중요한 상을 받았다.\n",
      "\n"
     ]
    }
   ],
   "source": [
    "for worst in worst_3_low_indices:\n",
    "    print(LSP_score[worst])\n",
    "    print(IntScore[worst])\n",
    "    print(CvScore[worst])\n",
    "    print(SvScore[worst])\n",
    "    print(PropScore[worst])\n",
    "    print(df.loc[df_sub_idx[worst], \"quote_dup_fixed\"])\n",
    "    print()"
   ]
  },
  {
   "cell_type": "markdown",
   "metadata": {},
   "source": [
    "# 사용하기"
   ]
  },
  {
   "cell_type": "code",
   "execution_count": 37,
   "metadata": {},
   "outputs": [],
   "source": [
    "# Title 별로 계산\n",
    "titles = df[\"title\"].unique()\n",
    "\n",
    "lambda_i, lambda_c, lambda_s, lambda_p = 1, 1, 1, 1\n",
    "\n",
    "for title in titles:\n",
    "    df_sub = df[df[\"title\"] == title]   # 해당 title만 계산\n",
    "    df_sub_idx = df_sub.index           # 해당 title의 인덱스\n",
    "\n",
    "    sl_list = list(df_sub.loc[df_sub[\"speaker_listener\"].notnull(), \"speaker_listener\"])    # 화자, 청자 리스트 뽑기\n",
    "\n",
    "    sl_list = [safe_eval(sl) for sl in sl_list]                     # eval을 통해 자료구조로 인식하기\n",
    "\n",
    "    sl_list_flatten = double_to_single(sl_list)                     # 이중 리스트 -> 단일 리스트 (화자, 청자 전체 리스트)\n",
    "    \n",
    "    count_res = compute_line_count(sl_list_flatten)                 # 해당 title의 인물 별 총 대사 계산\n",
    "    character_list = plotting_count(title, count_res, plot=False)   # Main character list 찾기 1 - sort\n",
    "    main_characters = extract_main_characters(character_list)       # Main character list 찾기 2 - crop\n",
    "\n",
    "    # 1. Interaction Score\n",
    "    interaction_list = [compute_network_density(sl, main_characters) for sl in sl_list]\n",
    "    interaction_score_list = np.array([i[\"Interaction score\"] for i in interaction_list])\n",
    "    IntScore = compute_uniform_rank(interaction_score_list)         # 랭크를 통한 정규화 (0~1)\n",
    "\n",
    "    # 2-1. Character Diversity\n",
    "    CvScore = np.array([])\n",
    "\n",
    "    for i in range(len(df_sub_idx) - 1):\n",
    "        s1 = df.loc[df_sub_idx[i], \"NE_tagged_modernized_set\"]\n",
    "        s2 = df.loc[df_sub_idx[i+1], \"NE_tagged_modernized_set\"]\n",
    "\n",
    "        character_variation = compute_character_variation(s1, s2, character_list)\n",
    "        CvScore = np.append(CvScore, character_variation)\n",
    "    CvScore = np.append(CvScore, 1)                                 # 마지막은 1 부여\n",
    "    CvScore = compute_uniform_rank(CvScore)                         # 랭크를 통한 정규화 (0~1)\n",
    "\n",
    "    # 2-2. Sentiment Diversity\n",
    "    SvScore = np.array([])\n",
    "\n",
    "    for i in range(len(df_sub_idx)):\n",
    "        sentiments = df.loc[df_sub_idx[i], \"sentiment_score\"]\n",
    "\n",
    "        sentiment_variation = compute_sentiment_variation(sentiments)\n",
    "        SvScore = np.append(SvScore, sentiment_variation)\n",
    "    SvScore = compute_uniform_rank(SvScore)                         # 랭크를 통한 정규화 (0~1)\n",
    "    \n",
    "    # 3. Line Proportion\n",
    "    PropScore = np.array([])\n",
    "\n",
    "    for i in df_sub_idx:\n",
    "        prop_score = compute_proportion(i, df_sub_idx)\n",
    "        PropScore = np.append(PropScore, prop_score)\n",
    "    PropScore = compute_uniform_rank(PropScore)                     # 랭크를 통한 정규화 (0~1)\n",
    "\n",
    "    LSP_score = (lambda_i * IntScore) + (lambda_c * CvScore) + (lambda_s * SvScore) + (lambda_p * PropScore)       # 최종 LSP 스코어\n",
    "    \n",
    "    df.loc[df_sub_idx, \"IntScore\"] = IntScore\n",
    "    df.loc[df_sub_idx, \"CvScore\"] = CvScore\n",
    "    df.loc[df_sub_idx, \"SvScore\"] = SvScore\n",
    "    df.loc[df_sub_idx, \"PropScore\"] = PropScore\n",
    "    df.loc[df_sub_idx, \"LSP_score\"] = LSP_score\n",
    "    \n",
    "    "
   ]
  },
  {
   "cell_type": "code",
   "execution_count": 38,
   "metadata": {},
   "outputs": [],
   "source": [
    "df.to_csv(\"final_with_LSP.csv\", index=False)"
   ]
  }
 ],
 "metadata": {
  "kernelspec": {
   "display_name": "base",
   "language": "python",
   "name": "python3"
  },
  "language_info": {
   "codemirror_mode": {
    "name": "ipython",
    "version": 3
   },
   "file_extension": ".py",
   "mimetype": "text/x-python",
   "name": "python",
   "nbconvert_exporter": "python",
   "pygments_lexer": "ipython3",
   "version": "3.11.5"
  }
 },
 "nbformat": 4,
 "nbformat_minor": 2
}
