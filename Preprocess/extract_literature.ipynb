{
 "cells": [
  {
   "cell_type": "code",
   "execution_count": 1,
   "metadata": {},
   "outputs": [],
   "source": [
    "import json"
   ]
  },
  {
   "cell_type": "code",
   "execution_count": 2,
   "metadata": {},
   "outputs": [],
   "source": [
    "import os\n",
    "\n",
    "# os.mkdir(\"literature\")"
   ]
  },
  {
   "cell_type": "code",
   "execution_count": null,
   "metadata": {},
   "outputs": [],
   "source": [
    "import tarfile\n",
    "\n",
    "def extract_tar(file_path, extract_path):\n",
    "    with tarfile.open(file_path, 'r') as tar:\n",
    "        tar.extractall(path=extract_path)\n",
    "\n",
    "# 사용 예시\n",
    "file_path = '요약문_및_레포트_생성_데이터.tar'\n",
    "extract_path = 'literature'\n",
    "extract_tar(file_path, extract_path)"
   ]
  },
  {
   "cell_type": "code",
   "execution_count": null,
   "metadata": {},
   "outputs": [
    {
     "data": {
      "text/plain": [
       "['TL1.zip', 'TS1.zip', 'VL1.zip', 'VS1.zip']"
      ]
     },
     "metadata": {},
     "output_type": "display_data"
    }
   ],
   "source": [
    "os.listdir(\"literature\")[1:]"
   ]
  },
  {
   "cell_type": "code",
   "execution_count": null,
   "metadata": {},
   "outputs": [],
   "source": [
    "import zipfile\n",
    "\n",
    "# 압축 해제할 파일 경로\n",
    "\n",
    "# 압축 해제될 폴더 경로\n",
    "extract_folder = r'literature/'\n",
    "\n",
    "# zip 파일 열기\n",
    "for file in os.listdir(\"literature\")[1:]:\n",
    "    zip_file_path = extract_folder + file\n",
    "    with zipfile.ZipFile(zip_file_path, 'r') as zip_ref:\n",
    "    # zip 파일 압축 해제\n",
    "        zip_ref.extractall(extract_folder)"
   ]
  },
  {
   "cell_type": "code",
   "execution_count": 8,
   "metadata": {},
   "outputs": [
    {
     "name": "stdout",
     "output_type": "stream",
     "text": [
      "c:\\Users\\Junho\\OneDrive - 성균관대학교\\바탕 화면\\한준호 활동\\P-SAT 33기 활동\\주제분석_데이터확인\\literature\\09.literature\n"
     ]
    }
   ],
   "source": [
    "%cd \"literature/09.literature\""
   ]
  },
  {
   "cell_type": "code",
   "execution_count": 6,
   "metadata": {},
   "outputs": [
    {
     "name": "stdout",
     "output_type": "stream",
     "text": [
      "5400\n",
      "5400\n"
     ]
    }
   ],
   "source": [
    "BASE_PATH1 = \"literature/09.literature/2~3sent\"\n",
    "BASE_PATH2 = \"literature/09.literature/20per\"\n",
    "\n",
    "literature_path1 = os.listdir(BASE_PATH1)\n",
    "literature_path2 = os.listdir(BASE_PATH2)\n",
    "\n",
    "print(len(os.listdir(BASE_PATH1)))\n",
    "print(len(os.listdir(BASE_PATH2)))"
   ]
  },
  {
   "cell_type": "code",
   "execution_count": 12,
   "metadata": {},
   "outputs": [
    {
     "data": {
      "text/plain": [
       "'2~3sent\\\\REPORT-literature-00600-00600.json'"
      ]
     },
     "execution_count": 12,
     "metadata": {},
     "output_type": "execute_result"
    }
   ],
   "source": [
    "os.path.join(\"2~3sent\", literature_path1[0])"
   ]
  },
  {
   "cell_type": "code",
   "execution_count": 21,
   "metadata": {},
   "outputs": [
    {
     "name": "stderr",
     "output_type": "stream",
     "text": [
      "100%|██████████| 5400/5400 [00:39<00:00, 137.10it/s]  \n"
     ]
    }
   ],
   "source": [
    "from pathlib import Path\n",
    "import json\n",
    "from tqdm import tqdm\n",
    "\n",
    "results = []\n",
    "\n",
    "for lp in tqdm(literature_path1):\n",
    "    # JSON 파일 경로\n",
    "    json_file_path = Path(os.path.join(\"2~3sent\", lp))\n",
    "\n",
    "    # JSON 파일 열기\n",
    "    with json_file_path.open() as f:\n",
    "        # JSON 데이터 읽어들이기\n",
    "        data = json.load(f)\n",
    "\n",
    "    docs = data[\"Meta(Acqusition)\"][\"doc_name\"]   # 문서 이름\n",
    "    author = data[\"Meta(Acqusition)\"][\"author\"]   # 작가\n",
    "    passage = data[\"Meta(Refine)\"][\"passage\"]  # 텍스트\n",
    "\n",
    "    results.append([docs, author, passage])"
   ]
  },
  {
   "cell_type": "code",
   "execution_count": 23,
   "metadata": {},
   "outputs": [
    {
     "name": "stderr",
     "output_type": "stream",
     "text": [
      "100%|██████████| 5400/5400 [01:03<00:00, 85.68it/s] \n"
     ]
    }
   ],
   "source": [
    "results2 = []\n",
    "\n",
    "for lp in tqdm(literature_path2):\n",
    "    # JSON 파일 경로\n",
    "    json_file_path = Path(os.path.join(\"20per\", lp))\n",
    "\n",
    "    # JSON 파일 열기\n",
    "    with json_file_path.open() as f:\n",
    "        # JSON 데이터 읽어들이기\n",
    "        data = json.load(f)\n",
    "\n",
    "    docs = data[\"Meta(Acqusition)\"][\"doc_name\"]   # 문서 이름\n",
    "    author = data[\"Meta(Acqusition)\"][\"author\"]   # 작가\n",
    "    passage = data[\"Meta(Refine)\"][\"passage\"]  # 텍스트\n",
    "\n",
    "    results2.append([docs, author, passage])"
   ]
  },
  {
   "cell_type": "code",
   "execution_count": 24,
   "metadata": {},
   "outputs": [
    {
     "data": {
      "text/plain": [
       "10800"
      ]
     },
     "execution_count": 24,
     "metadata": {},
     "output_type": "execute_result"
    }
   ],
   "source": [
    "total = results + results2\n",
    "len(total)"
   ]
  },
  {
   "cell_type": "code",
   "execution_count": 29,
   "metadata": {},
   "outputs": [
    {
     "name": "stdout",
     "output_type": "stream",
     "text": [
      "<class 'pandas.core.frame.DataFrame'>\n",
      "RangeIndex: 10800 entries, 0 to 10799\n",
      "Data columns (total 3 columns):\n",
      " #   Column  Non-Null Count  Dtype \n",
      "---  ------  --------------  ----- \n",
      " 0   title   10800 non-null  object\n",
      " 1   author  10800 non-null  object\n",
      " 2   text    10800 non-null  object\n",
      "dtypes: object(3)\n",
      "memory usage: 253.3+ KB\n"
     ]
    }
   ],
   "source": [
    "import pandas as pd\n",
    "\n",
    "df = pd.DataFrame(total,\n",
    "             columns=[\"title\", \"author\", \"text\"])\n",
    "df.info()\n",
    "df.to_csv(\"현대소설.csv\", encoding=\"utf-8\", index=False)"
   ]
  },
  {
   "cell_type": "markdown",
   "metadata": {},
   "source": [
    "# 전체 코퍼스 압축해제"
   ]
  },
  {
   "cell_type": "code",
   "execution_count": 1,
   "metadata": {},
   "outputs": [],
   "source": [
    "import json\n",
    "import os\n",
    "import tarfile\n",
    "import zipfile\n",
    "\n",
    "os.mkdir(\"whole_corpus\")"
   ]
  },
  {
   "cell_type": "code",
   "execution_count": 2,
   "metadata": {},
   "outputs": [],
   "source": [
    "def extract_tar(file_path, extract_path):\n",
    "    with tarfile.open(file_path, 'r') as tar:\n",
    "        tar.extractall(path=extract_path)\n",
    "\n",
    "# 사용 예시\n",
    "file_path = 'TL_800.tar'\n",
    "extract_path = 'whole_corpus'\n",
    "extract_tar(file_path, extract_path)"
   ]
  },
  {
   "cell_type": "code",
   "execution_count": 3,
   "metadata": {},
   "outputs": [],
   "source": [
    "# 사용 예시\n",
    "file_path = 'TL_810.tar'\n",
    "extract_path = 'whole_corpus'\n",
    "extract_tar(file_path, extract_path)"
   ]
  },
  {
   "cell_type": "code",
   "execution_count": 10,
   "metadata": {},
   "outputs": [
    {
     "name": "stdout",
     "output_type": "stream",
     "text": [
      "c:\\Users\\Junho\\OneDrive - 성균관대학교\\바탕 화면\\한준호 활동\\P-SAT 33기 활동\\주제분석_데이터확인\n"
     ]
    }
   ],
   "source": [
    "%cd .."
   ]
  },
  {
   "cell_type": "code",
   "execution_count": 13,
   "metadata": {},
   "outputs": [],
   "source": [
    "import shutil\n",
    "\n",
    "shutil.rmtree(\"whole_corpus/029.대규모_구매도서_기반_한국어_말뭉치_데이터\")"
   ]
  },
  {
   "cell_type": "code",
   "execution_count": 12,
   "metadata": {},
   "outputs": [],
   "source": [
    "import zipfile\n",
    "\n",
    "# 압축 해제할 파일 경로\n",
    "\n",
    "# 압축 해제될 폴더 경로\n",
    "extract_folder = r'whole_corpus/'\n",
    "\n",
    "# zip 파일 열기\n",
    "for file in os.listdir(\"whole_corpus\")[1:]:\n",
    "    zip_file_path = extract_folder + file\n",
    "    with zipfile.ZipFile(zip_file_path, 'r') as zip_ref:\n",
    "    # zip 파일 압축 해제\n",
    "        zip_ref.extractall(extract_folder)"
   ]
  },
  {
   "cell_type": "code",
   "execution_count": 14,
   "metadata": {},
   "outputs": [
    {
     "data": {
      "text/plain": [
       "2660"
      ]
     },
     "execution_count": 14,
     "metadata": {},
     "output_type": "execute_result"
    }
   ],
   "source": [
    "json_file_paths = os.listdir(\"whole_corpus\")[:-2]\n",
    "len(json_file_paths)"
   ]
  }
 ],
 "metadata": {
  "kernelspec": {
   "display_name": "base",
   "language": "python",
   "name": "python3"
  },
  "language_info": {
   "codemirror_mode": {
    "name": "ipython",
    "version": 3
   },
   "file_extension": ".py",
   "mimetype": "text/x-python",
   "name": "python",
   "nbconvert_exporter": "python",
   "pygments_lexer": "ipython3",
   "version": "3.11.5"
  }
 },
 "nbformat": 4,
 "nbformat_minor": 2
}
